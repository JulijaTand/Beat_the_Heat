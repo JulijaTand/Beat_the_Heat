import pandas as pd
df = pd.read_excel('Germany_(1965 - 2022) Python.xlsx')
df['Solar consumption - TWh'] = df['Solar consumption - TWh'].fillna(0.00)
df['Wind consumption - TWh'] = df['Wind consumption - TWh'].fillna(0.00)
df['Year'] = pd.to_datetime(df['Year'], format='%Y')
import pandas as pd
import statsmodels.api as sm
from statsmodels.tsa.arima_model import ARIMA
from sklearn.metrics import mean_squared_error
df.index = df['Year']
train = df.loc[df.index <= '2015']
test = df.loc[df.index >= '2016']
train.index= pd.PeriodIndex(train.index, freq='Y')
train.index
!pip install sktime -q
!pip install pmdarima -q
from sktime.forecasting.arima import AutoARIMA
arima = AutoARIMA()
arima.fit(train['Percentage of renewable energy consumed'])
train_series = train['Percentage of renewable energy consumed']
arima.summary()
pred_arima = arima.predict(list(range(1,8)))
pred_arima

